{
 "cells": [
  {
   "cell_type": "markdown",
   "id": "fbb6ba96",
   "metadata": {},
   "source": [
    "#  bayesian network"
   ]
  },
  {
   "cell_type": "markdown",
   "id": "d91ab47c",
   "metadata": {},
   "source": [
    "problem statement"
   ]
  },
  {
   "cell_type": "markdown",
   "id": "bc01bd8b",
   "metadata": {},
   "source": [
    "imagine we have five nodes.cancer..smoking,abestrous consumption...xray..blood vomiting..\n",
    "now we have a patient who by nature very less and was grown in an environment which has little bit of asbestrous around in the form of smokes or roof tops. he assumes he can develop cancer.during routine checkups there was a something unusual in xrays showing a tumour unfortunately the patient had blood\n",
    "vomitings"
   ]
  },
  {
   "cell_type": "code",
   "execution_count": 5,
   "id": "23158ac3",
   "metadata": {
    "scrolled": false
   },
   "outputs": [],
   "source": [
    "#pip install protopunica"
   ]
  },
  {
   "cell_type": "code",
   "execution_count": 6,
   "id": "5cc70d9e",
   "metadata": {},
   "outputs": [],
   "source": [
    "from protopunica import *"
   ]
  },
  {
   "cell_type": "markdown",
   "id": "f0fd185c",
   "metadata": {},
   "source": [
    "protopunica is a python library that implements probabilistic models"
   ]
  },
  {
   "cell_type": "code",
   "execution_count": 7,
   "id": "b826ffa6",
   "metadata": {},
   "outputs": [],
   "source": [
    "smoking = Node(DiscreteDistribution({\n",
    "    \"High smoking\":0.7,\n",
    "    \"Low smoking\":0.3\n",
    "}),name=\"smoking\")"
   ]
  },
  {
   "cell_type": "markdown",
   "id": "03b832a2",
   "metadata": {},
   "source": [
    "smoking is a root node and is not having any parent nodes.smoking is a random variable\n",
    "that takes two values high smoking and low smoking"
   ]
  },
  {
   "cell_type": "code",
   "execution_count": 8,
   "id": "a6e195fa",
   "metadata": {},
   "outputs": [],
   "source": [
    "asbes_consum=Node(DiscreteDistribution({\"High Cons\":0.3,\n",
    "                                       \"Low Cons\":0.7}),\n",
    "                  name=\"asbes_consum\")"
   ]
  },
  {
   "cell_type": "markdown",
   "id": "402c1a94",
   "metadata": {},
   "source": [
    "asbestos consumption is also a root node which is not having any parents and has two values\n",
    "high consumption and low consumption"
   ]
  },
  {
   "cell_type": "code",
   "execution_count": 9,
   "id": "4694c3c4",
   "metadata": {},
   "outputs": [],
   "source": [
    "Cancer=Node(ConditionalProbabilityTable([\n",
    "    [\"High smoking\",\"High Cons\",\"Pos\",0.4],\n",
    "    [\"High smoking\",\"High Cons\",\"Neg\",0.6],\n",
    "    [\"High smoking\",\"Low Cons\",\"Pos\",0.3],\n",
    "    [\"High smoking\",\"Low Cons\",\"Neg\",0.7],\n",
    "    [\"Low smoking\",\"Low Cons\",\"Pos\",0.1],\n",
    "    [\"Low smoking\",\"Low Cons\",\"Neg\",0.9],\n",
    "    [\"Low smoking\",\"High Cons\",\"Pos\",0.02],\n",
    "    [\"Low smoking\",\"High Cons\",\"Neg\",0.98],\n",
    "],[smoking.distribution,asbes_consum.distribution]),\n",
    "            name=\"Cancer\")"
   ]
  },
  {
   "cell_type": "markdown",
   "id": "16a23ece",
   "metadata": {},
   "source": [
    "cancer is a random variable which is conditionally dependent on smoking and asbestos.cancer takes two\n",
    "values positive and negative"
   ]
  },
  {
   "cell_type": "code",
   "execution_count": 10,
   "id": "e242e6d4",
   "metadata": {},
   "outputs": [],
   "source": [
    "scan=Node(ConditionalProbabilityTable([\n",
    "    [\"Pos\",\"scan_pos\",0.8],\n",
    "    [\"Pos\",\"scan_neg\",0.2],\n",
    "    [\"Neg\",\"scan_pos\",0.1],\n",
    "    [\"Neg\",\"scan_neg\",0.9]\n",
    "],[Cancer.distribution]),name=\"scan\")"
   ]
  },
  {
   "cell_type": "markdown",
   "id": "737aa1cf",
   "metadata": {},
   "source": [
    "scan(x-ray) is conditionally dependent on cancer.if there is cancer,there is a chance that the \n",
    "x-ray might reveal it.it takes two values positive and negative"
   ]
  },
  {
   "cell_type": "code",
   "execution_count": 11,
   "id": "eb5ed9cd",
   "metadata": {},
   "outputs": [],
   "source": [
    "Blood_vomiting=Node(ConditionalProbabilityTable([\n",
    "    [\"Pos\",\"B.V_pos\",0.7],\n",
    "    [\"Pos\",\"B.V_neg\",0.3],\n",
    "    [\"Neg\",\"B.V_pos\",0.2],\n",
    "    [\"Neg\",\"B.V_neg\",0.8]\n",
    "],[Cancer.distribution]),name=\"Blood_vomiting\")"
   ]
  },
  {
   "cell_type": "markdown",
   "id": "8026f4ff",
   "metadata": {},
   "source": [
    "patient suffers from blood vomitings.blood vomiting takes two values\n",
    "B.Vpos(Yes he has blood vomitings)and B.V neg(No he is not having any blood vomiting)"
   ]
  },
  {
   "cell_type": "markdown",
   "id": "4191140d",
   "metadata": {},
   "source": [
    "# Model the Bayesian network"
   ]
  },
  {
   "cell_type": "code",
   "execution_count": 12,
   "id": "51ad759b",
   "metadata": {},
   "outputs": [],
   "source": [
    "model=BayesianNetwork()"
   ]
  },
  {
   "cell_type": "markdown",
   "id": "56146991",
   "metadata": {},
   "source": [
    "# add all the nodes for the bayesian network"
   ]
  },
  {
   "cell_type": "code",
   "execution_count": 13,
   "id": "b22d73f8",
   "metadata": {},
   "outputs": [],
   "source": [
    "model.add_states(smoking,asbes_consum,Cancer,scan,Blood_vomiting)"
   ]
  },
  {
   "cell_type": "markdown",
   "id": "e0985dd8",
   "metadata": {},
   "source": [
    "# create the edges which state the conditional independence and dependence"
   ]
  },
  {
   "cell_type": "code",
   "execution_count": 14,
   "id": "94ee992b",
   "metadata": {},
   "outputs": [],
   "source": [
    "model.add_edge(smoking,Cancer)\n",
    "model.add_edge(asbes_consum,Cancer)\n",
    "model.add_edge(Cancer,scan)\n",
    "model.add_edge(Cancer,Blood_vomiting)"
   ]
  },
  {
   "cell_type": "markdown",
   "id": "9f2d7182",
   "metadata": {},
   "source": [
    "# bake the model"
   ]
  },
  {
   "cell_type": "code",
   "execution_count": 15,
   "id": "a154eedc",
   "metadata": {},
   "outputs": [],
   "source": [
    "model.bake()"
   ]
  },
  {
   "cell_type": "code",
   "execution_count": 16,
   "id": "2e40ee66",
   "metadata": {},
   "outputs": [
    {
     "data": {
      "text/plain": [
       "{\n",
       "    \"class\" : \"BayesianNetwork\",\n",
       "    \"name\" : \"2112221544944\",\n",
       "    \"structure\" : [\n",
       "        [],\n",
       "        [],\n",
       "        [\n",
       "            0,\n",
       "            1\n",
       "        ],\n",
       "        [\n",
       "            2\n",
       "        ],\n",
       "        [\n",
       "            2\n",
       "        ]\n",
       "    ],\n",
       "    \"states\" : [\n",
       "        {\n",
       "            \"class\" : \"State\",\n",
       "            \"distribution\" : {\n",
       "                \"class\" : \"Distribution\",\n",
       "                \"dtype\" : \"str\",\n",
       "                \"name\" : \"DiscreteDistribution\",\n",
       "                \"parameters\" : [\n",
       "                    {\n",
       "                        \"High smoking\" : 0.7,\n",
       "                        \"Low smoking\" : 0.3\n",
       "                    }\n",
       "                ],\n",
       "                \"frozen\" : false\n",
       "            },\n",
       "            \"name\" : \"smoking\",\n",
       "            \"weight\" : 1.0\n",
       "        },\n",
       "        {\n",
       "            \"class\" : \"State\",\n",
       "            \"distribution\" : {\n",
       "                \"class\" : \"Distribution\",\n",
       "                \"dtype\" : \"str\",\n",
       "                \"name\" : \"DiscreteDistribution\",\n",
       "                \"parameters\" : [\n",
       "                    {\n",
       "                        \"High Cons\" : 0.3,\n",
       "                        \"Low Cons\" : 0.7\n",
       "                    }\n",
       "                ],\n",
       "                \"frozen\" : false\n",
       "            },\n",
       "            \"name\" : \"asbes_consum\",\n",
       "            \"weight\" : 1.0\n",
       "        },\n",
       "        {\n",
       "            \"class\" : \"State\",\n",
       "            \"distribution\" : {\n",
       "                \"class\" : \"Distribution\",\n",
       "                \"name\" : \"ConditionalProbabilityTable\",\n",
       "                \"table\" : [\n",
       "                    [\n",
       "                        \"High smoking\",\n",
       "                        \"High Cons\",\n",
       "                        \"Pos\",\n",
       "                        \"0.4\"\n",
       "                    ],\n",
       "                    [\n",
       "                        \"High smoking\",\n",
       "                        \"High Cons\",\n",
       "                        \"Neg\",\n",
       "                        \"0.6\"\n",
       "                    ],\n",
       "                    [\n",
       "                        \"High smoking\",\n",
       "                        \"Low Cons\",\n",
       "                        \"Pos\",\n",
       "                        \"0.3\"\n",
       "                    ],\n",
       "                    [\n",
       "                        \"High smoking\",\n",
       "                        \"Low Cons\",\n",
       "                        \"Neg\",\n",
       "                        \"0.7\"\n",
       "                    ],\n",
       "                    [\n",
       "                        \"Low smoking\",\n",
       "                        \"Low Cons\",\n",
       "                        \"Pos\",\n",
       "                        \"0.10000000000000002\"\n",
       "                    ],\n",
       "                    [\n",
       "                        \"Low smoking\",\n",
       "                        \"Low Cons\",\n",
       "                        \"Neg\",\n",
       "                        \"0.9\"\n",
       "                    ],\n",
       "                    [\n",
       "                        \"Low smoking\",\n",
       "                        \"High Cons\",\n",
       "                        \"Pos\",\n",
       "                        \"0.02\"\n",
       "                    ],\n",
       "                    [\n",
       "                        \"Low smoking\",\n",
       "                        \"High Cons\",\n",
       "                        \"Neg\",\n",
       "                        \"0.98\"\n",
       "                    ]\n",
       "                ],\n",
       "                \"dtypes\" : [\n",
       "                    \"str\",\n",
       "                    \"str\",\n",
       "                    \"str\",\n",
       "                    \"float\"\n",
       "                ],\n",
       "                \"parents\" : [\n",
       "                    {\n",
       "                        \"class\" : \"Distribution\",\n",
       "                        \"dtype\" : \"str\",\n",
       "                        \"name\" : \"DiscreteDistribution\",\n",
       "                        \"parameters\" : [\n",
       "                            {\n",
       "                                \"High smoking\" : 0.7,\n",
       "                                \"Low smoking\" : 0.3\n",
       "                            }\n",
       "                        ],\n",
       "                        \"frozen\" : false\n",
       "                    },\n",
       "                    {\n",
       "                        \"class\" : \"Distribution\",\n",
       "                        \"dtype\" : \"str\",\n",
       "                        \"name\" : \"DiscreteDistribution\",\n",
       "                        \"parameters\" : [\n",
       "                            {\n",
       "                                \"High Cons\" : 0.3,\n",
       "                                \"Low Cons\" : 0.7\n",
       "                            }\n",
       "                        ],\n",
       "                        \"frozen\" : false\n",
       "                    }\n",
       "                ]\n",
       "            },\n",
       "            \"name\" : \"Cancer\",\n",
       "            \"weight\" : 1.0\n",
       "        },\n",
       "        {\n",
       "            \"class\" : \"State\",\n",
       "            \"distribution\" : {\n",
       "                \"class\" : \"Distribution\",\n",
       "                \"name\" : \"ConditionalProbabilityTable\",\n",
       "                \"table\" : [\n",
       "                    [\n",
       "                        \"Pos\",\n",
       "                        \"scan_pos\",\n",
       "                        \"0.8\"\n",
       "                    ],\n",
       "                    [\n",
       "                        \"Pos\",\n",
       "                        \"scan_neg\",\n",
       "                        \"0.2\"\n",
       "                    ],\n",
       "                    [\n",
       "                        \"Neg\",\n",
       "                        \"scan_pos\",\n",
       "                        \"0.10000000000000002\"\n",
       "                    ],\n",
       "                    [\n",
       "                        \"Neg\",\n",
       "                        \"scan_neg\",\n",
       "                        \"0.9\"\n",
       "                    ]\n",
       "                ],\n",
       "                \"dtypes\" : [\n",
       "                    \"str\",\n",
       "                    \"str\",\n",
       "                    \"float\"\n",
       "                ],\n",
       "                \"parents\" : [\n",
       "                    {\n",
       "                        \"class\" : \"Distribution\",\n",
       "                        \"name\" : \"ConditionalProbabilityTable\",\n",
       "                        \"table\" : [\n",
       "                            [\n",
       "                                \"High smoking\",\n",
       "                                \"High Cons\",\n",
       "                                \"Neg\",\n",
       "                                \"0.6\"\n",
       "                            ],\n",
       "                            [\n",
       "                                \"High smoking\",\n",
       "                                \"High Cons\",\n",
       "                                \"Pos\",\n",
       "                                \"0.4\"\n",
       "                            ],\n",
       "                            [\n",
       "                                \"High smoking\",\n",
       "                                \"Low Cons\",\n",
       "                                \"Neg\",\n",
       "                                \"0.7\"\n",
       "                            ],\n",
       "                            [\n",
       "                                \"High smoking\",\n",
       "                                \"Low Cons\",\n",
       "                                \"Pos\",\n",
       "                                \"0.3\"\n",
       "                            ],\n",
       "                            [\n",
       "                                \"Low smoking\",\n",
       "                                \"High Cons\",\n",
       "                                \"Neg\",\n",
       "                                \"0.98\"\n",
       "                            ],\n",
       "                            [\n",
       "                                \"Low smoking\",\n",
       "                                \"High Cons\",\n",
       "                                \"Pos\",\n",
       "                                \"0.02\"\n",
       "                            ],\n",
       "                            [\n",
       "                                \"Low smoking\",\n",
       "                                \"Low Cons\",\n",
       "                                \"Neg\",\n",
       "                                \"0.9\"\n",
       "                            ],\n",
       "                            [\n",
       "                                \"Low smoking\",\n",
       "                                \"Low Cons\",\n",
       "                                \"Pos\",\n",
       "                                \"0.10000000000000002\"\n",
       "                            ]\n",
       "                        ],\n",
       "                        \"dtypes\" : [\n",
       "                            \"str\",\n",
       "                            \"str\",\n",
       "                            \"str\",\n",
       "                            \"float\"\n",
       "                        ],\n",
       "                        \"parents\" : [\n",
       "                            {\n",
       "                                \"class\" : \"Distribution\",\n",
       "                                \"dtype\" : \"str\",\n",
       "                                \"name\" : \"DiscreteDistribution\",\n",
       "                                \"parameters\" : [\n",
       "                                    {\n",
       "                                        \"High smoking\" : 0.7,\n",
       "                                        \"Low smoking\" : 0.3\n",
       "                                    }\n",
       "                                ],\n",
       "                                \"frozen\" : false\n",
       "                            },\n",
       "                            {\n",
       "                                \"class\" : \"Distribution\",\n",
       "                                \"dtype\" : \"str\",\n",
       "                                \"name\" : \"DiscreteDistribution\",\n",
       "                                \"parameters\" : [\n",
       "                                    {\n",
       "                                        \"High Cons\" : 0.3,\n",
       "                                        \"Low Cons\" : 0.7\n",
       "                                    }\n",
       "                                ],\n",
       "                                \"frozen\" : false\n",
       "                            }\n",
       "                        ]\n",
       "                    }\n",
       "                ]\n",
       "            },\n",
       "            \"name\" : \"scan\",\n",
       "            \"weight\" : 1.0\n",
       "        },\n",
       "        {\n",
       "            \"class\" : \"State\",\n",
       "            \"distribution\" : {\n",
       "                \"class\" : \"Distribution\",\n",
       "                \"name\" : \"ConditionalProbabilityTable\",\n",
       "                \"table\" : [\n",
       "                    [\n",
       "                        \"Pos\",\n",
       "                        \"B.V_pos\",\n",
       "                        \"0.7\"\n",
       "                    ],\n",
       "                    [\n",
       "                        \"Pos\",\n",
       "                        \"B.V_neg\",\n",
       "                        \"0.3\"\n",
       "                    ],\n",
       "                    [\n",
       "                        \"Neg\",\n",
       "                        \"B.V_pos\",\n",
       "                        \"0.2\"\n",
       "                    ],\n",
       "                    [\n",
       "                        \"Neg\",\n",
       "                        \"B.V_neg\",\n",
       "                        \"0.8\"\n",
       "                    ]\n",
       "                ],\n",
       "                \"dtypes\" : [\n",
       "                    \"str\",\n",
       "                    \"str\",\n",
       "                    \"float\"\n",
       "                ],\n",
       "                \"parents\" : [\n",
       "                    {\n",
       "                        \"class\" : \"Distribution\",\n",
       "                        \"name\" : \"ConditionalProbabilityTable\",\n",
       "                        \"table\" : [\n",
       "                            [\n",
       "                                \"High smoking\",\n",
       "                                \"High Cons\",\n",
       "                                \"Neg\",\n",
       "                                \"0.6\"\n",
       "                            ],\n",
       "                            [\n",
       "                                \"High smoking\",\n",
       "                                \"High Cons\",\n",
       "                                \"Pos\",\n",
       "                                \"0.4\"\n",
       "                            ],\n",
       "                            [\n",
       "                                \"High smoking\",\n",
       "                                \"Low Cons\",\n",
       "                                \"Neg\",\n",
       "                                \"0.7\"\n",
       "                            ],\n",
       "                            [\n",
       "                                \"High smoking\",\n",
       "                                \"Low Cons\",\n",
       "                                \"Pos\",\n",
       "                                \"0.3\"\n",
       "                            ],\n",
       "                            [\n",
       "                                \"Low smoking\",\n",
       "                                \"High Cons\",\n",
       "                                \"Neg\",\n",
       "                                \"0.98\"\n",
       "                            ],\n",
       "                            [\n",
       "                                \"Low smoking\",\n",
       "                                \"High Cons\",\n",
       "                                \"Pos\",\n",
       "                                \"0.02\"\n",
       "                            ],\n",
       "                            [\n",
       "                                \"Low smoking\",\n",
       "                                \"Low Cons\",\n",
       "                                \"Neg\",\n",
       "                                \"0.9\"\n",
       "                            ],\n",
       "                            [\n",
       "                                \"Low smoking\",\n",
       "                                \"Low Cons\",\n",
       "                                \"Pos\",\n",
       "                                \"0.10000000000000002\"\n",
       "                            ]\n",
       "                        ],\n",
       "                        \"dtypes\" : [\n",
       "                            \"str\",\n",
       "                            \"str\",\n",
       "                            \"str\",\n",
       "                            \"float\"\n",
       "                        ],\n",
       "                        \"parents\" : [\n",
       "                            {\n",
       "                                \"class\" : \"Distribution\",\n",
       "                                \"dtype\" : \"str\",\n",
       "                                \"name\" : \"DiscreteDistribution\",\n",
       "                                \"parameters\" : [\n",
       "                                    {\n",
       "                                        \"High smoking\" : 0.7,\n",
       "                                        \"Low smoking\" : 0.3\n",
       "                                    }\n",
       "                                ],\n",
       "                                \"frozen\" : false\n",
       "                            },\n",
       "                            {\n",
       "                                \"class\" : \"Distribution\",\n",
       "                                \"dtype\" : \"str\",\n",
       "                                \"name\" : \"DiscreteDistribution\",\n",
       "                                \"parameters\" : [\n",
       "                                    {\n",
       "                                        \"High Cons\" : 0.3,\n",
       "                                        \"Low Cons\" : 0.7\n",
       "                                    }\n",
       "                                ],\n",
       "                                \"frozen\" : false\n",
       "                            }\n",
       "                        ]\n",
       "                    }\n",
       "                ]\n",
       "            },\n",
       "            \"name\" : \"Blood_vomiting\",\n",
       "            \"weight\" : 1.0\n",
       "        }\n",
       "    ]\n",
       "}"
      ]
     },
     "execution_count": 16,
     "metadata": {},
     "output_type": "execute_result"
    }
   ],
   "source": [
    "model"
   ]
  },
  {
   "cell_type": "markdown",
   "id": "fd794e66",
   "metadata": {},
   "source": [
    "# find the probability for a given set of conditions"
   ]
  },
  {
   "cell_type": "markdown",
   "id": "1646c294",
   "metadata": {},
   "source": [
    "# what is the probability that a patient might have cancer"
   ]
  },
  {
   "cell_type": "markdown",
   "id": "91ec57aa",
   "metadata": {},
   "source": [
    "with both blood vomiting and xray shows positive but the patient doesnot smoke or doesnot inhale asbestos"
   ]
  },
  {
   "cell_type": "markdown",
   "id": "3caa032a",
   "metadata": {},
   "source": [
    "# P(B.V,X,C-S,-AC)"
   ]
  },
  {
   "cell_type": "code",
   "execution_count": 17,
   "id": "975c389b",
   "metadata": {},
   "outputs": [],
   "source": [
    "probability=model.probability([[\"Low smoking\",\"Low Cons\",\"Pos\",\"scan_pos\",\"B.V_pos\"]])"
   ]
  },
  {
   "cell_type": "code",
   "execution_count": 18,
   "id": "1f30f0f9",
   "metadata": {},
   "outputs": [
    {
     "data": {
      "text/plain": [
       "0.011759999999999998"
      ]
     },
     "execution_count": 18,
     "metadata": {},
     "output_type": "execute_result"
    }
   ],
   "source": [
    "probability"
   ]
  },
  {
   "cell_type": "code",
   "execution_count": 21,
   "id": "47fb243c",
   "metadata": {},
   "outputs": [
    {
     "name": "stdout",
     "output_type": "stream",
     "text": [
      "[array(['Low smoking', 'Low Cons', 'Neg', 'scan_pos', 'B.V_neg'],\n",
      "      dtype=object)]\n"
     ]
    }
   ],
   "source": [
    "print(model.predict([[\"Low smoking\",\"Low Cons\",\"Neg\",\"scan_pos\",None]]))"
   ]
  },
  {
   "cell_type": "code",
   "execution_count": 22,
   "id": "db4f9ffc",
   "metadata": {},
   "outputs": [],
   "source": [
    "prediction=model.predict_proba({\"Blood_vomiting\": \"B.V_pos\"})"
   ]
  },
  {
   "cell_type": "code",
   "execution_count": 24,
   "id": "dd6fcd84",
   "metadata": {},
   "outputs": [
    {
     "data": {
      "text/plain": [
       "array([{\n",
       "           \"class\" : \"Distribution\",\n",
       "           \"dtype\" : \"str\",\n",
       "           \"name\" : \"DiscreteDistribution\",\n",
       "           \"parameters\" : [\n",
       "               {\n",
       "                   \"High smoking\" : 0.7815845824411132,\n",
       "                   \"Low smoking\" : 0.21841541755888677\n",
       "               }\n",
       "           ],\n",
       "           \"frozen\" : false\n",
       "       }                                               ,\n",
       "       {\n",
       "           \"class\" : \"Distribution\",\n",
       "           \"dtype\" : \"str\",\n",
       "           \"name\" : \"DiscreteDistribution\",\n",
       "           \"parameters\" : [\n",
       "               {\n",
       "                   \"High Cons\" : 0.314775160599572,\n",
       "                   \"Low Cons\" : 0.6852248394004281\n",
       "               }\n",
       "           ],\n",
       "           \"frozen\" : false\n",
       "       }                                           ,\n",
       "       {\n",
       "           \"class\" : \"Distribution\",\n",
       "           \"dtype\" : \"str\",\n",
       "           \"name\" : \"DiscreteDistribution\",\n",
       "           \"parameters\" : [\n",
       "               {\n",
       "                   \"Neg\" : 0.45653104925053517,\n",
       "                   \"Pos\" : 0.5434689507494648\n",
       "               }\n",
       "           ],\n",
       "           \"frozen\" : false\n",
       "       }                                       ,\n",
       "       {\n",
       "           \"class\" : \"Distribution\",\n",
       "           \"dtype\" : \"str\",\n",
       "           \"name\" : \"DiscreteDistribution\",\n",
       "           \"parameters\" : [\n",
       "               {\n",
       "                   \"scan_neg\" : 0.5195717344753747,\n",
       "                   \"scan_pos\" : 0.48042826552462525\n",
       "               }\n",
       "           ],\n",
       "           \"frozen\" : false\n",
       "       }                                           , 'B.V_pos'],\n",
       "      dtype=object)"
      ]
     },
     "execution_count": 24,
     "metadata": {},
     "output_type": "execute_result"
    }
   ],
   "source": [
    "prediction"
   ]
  },
  {
   "cell_type": "code",
   "execution_count": null,
   "id": "4f1f4b8b",
   "metadata": {},
   "outputs": [],
   "source": []
  }
 ],
 "metadata": {
  "kernelspec": {
   "display_name": "Python 3 (ipykernel)",
   "language": "python",
   "name": "python3"
  },
  "language_info": {
   "codemirror_mode": {
    "name": "ipython",
    "version": 3
   },
   "file_extension": ".py",
   "mimetype": "text/x-python",
   "name": "python",
   "nbconvert_exporter": "python",
   "pygments_lexer": "ipython3",
   "version": "3.11.5"
  }
 },
 "nbformat": 4,
 "nbformat_minor": 5
}
